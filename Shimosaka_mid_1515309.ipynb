{
  "nbformat": 4,
  "nbformat_minor": 0,
  "metadata": {
    "colab": {
      "name": "Shimosaka-mid-1515309.ipynb",
      "version": "0.3.2",
      "provenance": [],
      "collapsed_sections": [
        "2QOlpskrHIBj",
        "Ymug3GRpImdD"
      ],
      "include_colab_link": true
    },
    "kernelspec": {
      "name": "python3",
      "display_name": "Python 3"
    }
  },
  "cells": [
    {
      "cell_type": "markdown",
      "metadata": {
        "id": "view-in-github",
        "colab_type": "text"
      },
      "source": [
        "[View in Colaboratory](https://colab.research.google.com/github/You-Your-Yu/machine-learning-assignment/blob/master/Shimosaka_mid_1515309.ipynb)"
      ]
    },
    {
      "metadata": {
        "id": "urvNZ7lm-jn-",
        "colab_type": "text"
      },
      "cell_type": "markdown",
      "source": [
        "# Environmental Setting"
      ]
    },
    {
      "metadata": {
        "id": "934xKsA0-u_b",
        "colab_type": "code",
        "colab": {
          "base_uri": "https://localhost:8080/",
          "height": 136
        },
        "outputId": "5b473248-0443-4c39-c574-794009475ce3"
      },
      "cell_type": "code",
      "source": [
        "!pip install matplotlib"
      ],
      "execution_count": 3,
      "outputs": [
        {
          "output_type": "stream",
          "text": [
            "Requirement already satisfied: matplotlib in /usr/local/lib/python3.6/dist-packages (2.1.2)\r\n",
            "Requirement already satisfied: pytz in /usr/local/lib/python3.6/dist-packages (from matplotlib) (2018.5)\r\n",
            "Requirement already satisfied: python-dateutil>=2.1 in /usr/local/lib/python3.6/dist-packages (from matplotlib) (2.5.3)\r\n",
            "Requirement already satisfied: cycler>=0.10 in /usr/local/lib/python3.6/dist-packages (from matplotlib) (0.10.0)\r\n",
            "Requirement already satisfied: six>=1.10 in /usr/local/lib/python3.6/dist-packages (from matplotlib) (1.11.0)\r\n",
            "Requirement already satisfied: pyparsing!=2.0.4,!=2.1.2,!=2.1.6,>=2.0.1 in /usr/local/lib/python3.6/dist-packages (from matplotlib) (2.2.0)\r\n",
            "Requirement already satisfied: numpy>=1.7.1 in /usr/local/lib/python3.6/dist-packages (from matplotlib) (1.14.5)\r\n"
          ],
          "name": "stdout"
        }
      ]
    },
    {
      "metadata": {
        "id": "l2VY4zTxrFAA",
        "colab_type": "text"
      },
      "cell_type": "markdown",
      "source": [
        "# Dataset"
      ]
    },
    {
      "metadata": {
        "id": "QWlpbGkR2N8e",
        "colab_type": "text"
      },
      "cell_type": "markdown",
      "source": [
        "## Dataset 1"
      ]
    },
    {
      "metadata": {
        "id": "PjSagVc2-KAB",
        "colab_type": "code",
        "colab": {
          "base_uri": "https://localhost:8080/",
          "height": 347
        },
        "outputId": "6f44da7a-71dc-4b0d-a669-86dfef025e1c"
      },
      "cell_type": "code",
      "source": [
        "import numpy as np\n",
        "import matplotlib.pyplot as plt\n",
        "\n",
        "# dataset 1\n",
        "def create_dataset1(n=100, bias=False, sd=100):\n",
        "    np.random.seed(sd)\n",
        "    # x: n*2行列\n",
        "    X = 3 * (np.random.rand(n, 2) - 0.5)\n",
        "    # radius: n*1行列\n",
        "    radius = X[:,0] ** 2 + X[:,1] ** 2\n",
        "    # y: n*1行列\n",
        "    y = np.logical_and((radius > (0.7 + 0.1 * np.random.randn(n, 1))).all(axis=0), (radius < (2.2 + 0.1 * np.random.randn(n, 1))).all(axis=0))\n",
        "    y = 2 * y - 1\n",
        "    if bias:\n",
        "      X = np.c_[X, np.ones(len(X))]\n",
        "    return X, y\n",
        "\n",
        "### visualization ###\n",
        "X, y = create_dataset1()\n",
        "X_p = x[y == 1]\n",
        "X_n = x[y == -1]\n",
        "plt.scatter(X_p[:,0], X_p[:,1], marker='o')\n",
        "plt.scatter(X_n[:,0], X_n[:,1], marker='s')\n",
        "plt.show()"
      ],
      "execution_count": 69,
      "outputs": [
        {
          "output_type": "display_data",
          "data": {
            "image/png": "[encoded data removed]",
            "text/plain": [
              "<matplotlib.figure.Figure at 0x7fc8d0f6f208>"
            ]
          },
          "metadata": {
            "tags": []
          }
        }
      ]
    },
    {
      "metadata": {
        "id": "0iMh_D5S2RGy",
        "colab_type": "text"
      },
      "cell_type": "markdown",
      "source": [
        "## Dataset 2"
      ]
    },
    {
      "metadata": {
        "id": "sTF-xVurzK-U",
        "colab_type": "code",
        "colab": {
          "base_uri": "https://localhost:8080/",
          "height": 347
        },
        "outputId": "2ee64e1a-7200-4573-b54d-074e7169dd45"
      },
      "cell_type": "code",
      "source": [
        "import numpy as np\n",
        "import matplotlib.pyplot as plt\n",
        "\n",
        "def create_dataset2(n=40, bias=False,  sd=100):\n",
        "    np.random.seed(sd)\n",
        "    omega = np.random.randn(1, 1)\n",
        "    noise = 0.8 * np.random.randn(n, 1)\n",
        "    # x: n*2行列\n",
        "    X = np.random.randn(n, 2)\n",
        "    # y: n*1行列\n",
        "    y = 2 * ((omega * X[:,0] + X[:,1] + noise) > 0).all(axis=0) -1\n",
        "    if bias:\n",
        "      X = np.c_[X, np.ones(len(X))]\n",
        "    return X, y\n",
        "\n",
        "### visualization ###\n",
        "X, y = create_dataset2()\n",
        "X_p = X[y == 1]\n",
        "X_n = X[y == -1]\n",
        "plt.scatter(X_p[:,0], X_p[:,1], marker='o')\n",
        "plt.scatter(X_n[:,0], X_n[:,1], marker='s')\n",
        "plt.show()"
      ],
      "execution_count": 2,
      "outputs": [
        {
          "output_type": "display_data",
          "data": {
            "image/png": "[encoded data removed]",
            "text/plain": [
              "<matplotlib.figure.Figure at 0x7ff3eb7c7518>"
            ]
          },
          "metadata": {
            "tags": []
          }
        }
      ]
    },
    {
      "metadata": {
        "id": "lhD7F6nv-ah_",
        "colab_type": "text"
      },
      "cell_type": "markdown",
      "source": [
        "# Promlem 1"
      ]
    },
    {
      "metadata": {
        "id": "2QOlpskrHIBj",
        "colab_type": "text"
      },
      "cell_type": "markdown",
      "source": [
        "## Differentiation"
      ]
    },
    {
      "metadata": {
        "id": "zLXjA-hAHPJW",
        "colab_type": "code",
        "colab": {}
      },
      "cell_type": "code",
      "source": [
        "# 微分\n",
        "def differentiate(f, w, x, y, lm, h=0.01):\n",
        "    I = np.eye(w.shape[0])\n",
        "    return (f(w[:, np.newaxis] + h * I, x, y, lm) - f(w, x, y, lm)) / h\n"
      ],
      "execution_count": 0,
      "outputs": []
    },
    {
      "metadata": {
        "id": "Ymug3GRpImdD",
        "colab_type": "text"
      },
      "cell_type": "markdown",
      "source": [
        "## Loss function"
      ]
    },
    {
      "metadata": {
        "id": "1d5APhUWIo7D",
        "colab_type": "code",
        "colab": {}
      },
      "cell_type": "code",
      "source": [
        "# 損失関数\n",
        "def loss(w, x, y, lm):\n",
        "    ret = np.log(1 + np.exp(-y * np.dot(x, w)))\n",
        "    ret = np.sum(ret, axis=0) + lm * np.dot(w.T, w)\n",
        "    return ret\n"
      ],
      "execution_count": 0,
      "outputs": []
    },
    {
      "metadata": {
        "id": "C6k7azOoIsX6",
        "colab_type": "code",
        "colab": {}
      },
      "cell_type": "code",
      "source": [
        "X, y = create_dataset1()\n",
        "w = np.random.rand(x.shape[1])\n",
        "print('x:{}, y:{}, w:{}'.format(x.shape, y.shape, y.shape))\n",
        "lm = 0.01\n",
        "J = loss(w, x, y, lm)\n",
        "dJ = differentiate(loss, w, x, y, lm)\n",
        "print('J:{}'.format(J.shape))"
      ],
      "execution_count": 0,
      "outputs": []
    },
    {
      "metadata": {
        "id": "ERjujY7RyBmv",
        "colab_type": "text"
      },
      "cell_type": "markdown",
      "source": [
        "# Problem 3"
      ]
    },
    {
      "metadata": {
        "id": "iVzBHHCAyEmG",
        "colab_type": "code",
        "colab": {
          "base_uri": "https://localhost:8080/",
          "height": 357
        },
        "outputId": "5a8b6143-190d-4d09-e71b-1c3581444abf"
      },
      "cell_type": "code",
      "source": [
        "import numpy as np\n",
        "\n",
        "# loss function\n",
        "def loss(w, X, y, lm=0.1):\n",
        "  tmp = 1 -  np.dot(y[:, np.newaxis]  * X, w)\n",
        "  tmp = np.clip(tmp, a_min=0, a_max=np.inf)\n",
        "  return np.sum(tmp, axis=0)\n",
        "\n",
        "# negative dual lagrange function\n",
        "def ndl(alpha, K, lm=0.1):\n",
        "  return np.dot(np.dot(alpha.T, K), alpha) / 4 / lm - np.dot(alpha.T, np.ones(alpha.shape[0]))\n",
        "\n",
        "# differntiation of negative dual lagrange function\n",
        "def dndl(alpha, K, lm=0.1):\n",
        "  return np.dot(K, alpha) / 2 / lm  - 1    \n",
        "\n",
        "# differentiation of negative dual lagrange function by learning rate\n",
        "def dndl_by_lr(lr, alpha, K, lm=0.1):\n",
        "  dndl_curr = dndl(alpha, K, lm)\n",
        "  return 2 * lr * np.dot(dndl_curr, dndl_curr) - 2 * np.dot(dndl_curr.T, np.dot(K, alpha))\n",
        "  \n",
        "# update alpha by using projected gradient\n",
        "def update(prev, K, lm=0.1, lr_init=1, c=0.5, rho=0.5):\n",
        "  lr = lr_init\n",
        "  while True:\n",
        "    curr = prev - lr * dndl(prev, K, lm)\n",
        "    curr[curr < 0] = 0\n",
        "    curr[1 < curr] = 1\n",
        "    ndl_curr = ndl(curr, K, lm)\n",
        "    ndl_prev = ndl(prev, K, lm)\n",
        "    dndl_by_lr_prev = dndl_by_lr(0, prev, K, lm) \n",
        "    condition = (ndl_curr <= (ndl_prev + c * lr * dndl_by_lr_prev))\n",
        "    #condition = (ndl_curr <= ndl_prev)\n",
        "    if condition:\n",
        "      #print(lr)\n",
        "      break\n",
        "    else:\n",
        "      lr *= rho\n",
        "      curr = prev\n",
        "  return curr\n",
        "  \n",
        "  \n",
        "### preparing dataset ###\n",
        "n = 40\n",
        "bias = True\n",
        "train_X, train_y = create_dataset2(n, bias, sd=100)\n",
        "train_K = np.diag(train_y).dot(train_X).dot(train_X.T).dot(np.diag(train_y))\n",
        "test_X, test_y = create_dataset2(n, bias, sd=200)\n",
        "test_K = np.diag(test_y).dot(test_X).dot(test_X.T).dot(np.diag(test_y))\n",
        "print('train_X: {}, train_y: {}'.format(train_X.shape, train_y.shape))\n",
        "print('train_K: {}'.format(train_K.shape))\n",
        "print('test_X: {}, test_y: {}'.format(test_X.shape, test_y.shape))\n",
        "print('test_K: {}'.format(test_K.shape))\n",
        "print('\\n')\n",
        "\n",
        "### training ###\n",
        "alpha = 0.5 * np.random.rand(train_X.shape[0]) + 0.5\n",
        "lm = 0.01\n",
        "lr_init = 1\n",
        "fin = 0.0001\n",
        "log = []\n",
        "prev = alpha\n",
        "log.append(alpha)\n",
        "for i in range(1000):\n",
        "  curr = update(prev, train_K, lm, lr_init)\n",
        "  log.append(curr)\n",
        "  if (np.linalg.norm(curr - prev) < fin).all():\n",
        "    break\n",
        "  prev = curr\n",
        "\n",
        "### result ###\n",
        "last = log[-1]\n",
        "w = train_X.T.dot(np.diag(train_y)).dot(last)\n",
        "print('total steps: {}'.format(len(log) - 1))\n",
        "print('train_ndl: {:.4f}, train_loss: {:.4f}'.format(ndl(last, train_K, lm), loss(w, train_X, train_y, lm)))\n",
        "print('test_ndl: {:.4f}, test_loss: {:.4f}'.format(ndl(last, test_K, lm), loss(w, test_X, test_y, lm)))\n",
        "train_pred = (np.dot(train_X, w) >= 0) * 2 - 1\n",
        "train_acc = np.sum(train_pred == train_y, axis=0) / len(train_y)\n",
        "test_pred = (np.dot(test_X, w) >= 0) * 2 - 1\n",
        "test_acc = np.sum(test_pred == test_y, axis=0) / len(test_y)\n",
        "print('tarin_accracy: {:.4f}, test_accuracy: {:.4f}'.format(train_acc, test_acc))\n",
        "print('\\n')\n",
        "'''\n",
        "for i, item in enumerate(log):\n",
        "  w_i = np.dot(train_y[np.newaxis, :] * train_X.T, item)\n",
        "  l = loss(w_i, train_X, train_y, lm)\n",
        "  print('step={}'.format(i))\n",
        "  print('train_ndl: {:.4f}, train_loss: {:.4f}'.format(ndl(item, train_K, lm), loss(w_i, train_X, train_y, lm)))\n",
        "  print('test_ndl: {:.4f}, test_loss: {:.4f}'.format(ndl(item, test_K, lm), loss(w_i, test_X, test_y, lm)))\n",
        "  print(item)\n",
        " \n",
        "'''\n",
        "print('alpha: {}\\nw: {}'.format(last, w))"
      ],
      "execution_count": 7,
      "outputs": [
        {
          "output_type": "stream",
          "text": [
            "train_X: (40, 3), train_y: (40,)\n",
            "train_K: (40, 40)\n",
            "test_X: (40, 3), test_y: (40,)\n",
            "test_K: (40, 40)\n",
            "\n",
            "\n",
            "total steps: 21\n",
            "train_ndl: 3.8428, train_loss: 26.2325\n",
            "test_ndl: 149.9635, test_loss: 23.2530\n",
            "tarin_accracy: 0.9750, test_accuracy: 0.8750\n",
            "\n",
            "\n",
            "alpha: [0.15457989 0.         0.14712885 0.         0.         0.\n",
            " 0.72587111 0.         0.         0.17901703 0.         0.\n",
            " 0.         0.         0.46837949 0.         0.         0.01020868\n",
            " 0.         0.         0.         0.         0.         0.\n",
            " 0.2921232  0.6077662  0.         0.         0.         0.\n",
            " 0.         0.         0.         0.         0.         0.\n",
            " 0.50491543 0.         0.         0.        ]\n",
            "w: [-0.40101016  0.13441263 -0.31374175]\n"
          ],
          "name": "stdout"
        }
      ]
    },
    {
      "metadata": {
        "id": "XHiSVULb4HeC",
        "colab_type": "code",
        "colab": {
          "base_uri": "https://localhost:8080/",
          "height": 403
        },
        "outputId": "b4dd3aa2-cb58-4844-823c-326b39534bf6"
      },
      "cell_type": "code",
      "source": [
        "# visualization for train data\n",
        "fig, (axL, axR) = plt.subplots(ncols=2, figsize=(15, 6))\n",
        "\n",
        "train_X_p = train_X[train_y == 1]\n",
        "train_X_n = train_X[train_y == -1]\n",
        "test_X_p = test_X[test_y == 1]\n",
        "test_X_n = test_X[test_y == -1]\n",
        "\n",
        "sv = train_X[last.astype(bool)]\n",
        "\n",
        "x0range = np.arange(-3, 3, 0.01)\n",
        "x1range = np.arange(-3, 3, 0.01)\n",
        "X0, X1 = np.meshgrid(x0range, x1range)\n",
        "Y = X0 * w[0] + X1 * w[1]\n",
        "if bias:\n",
        "  Y += w[2]\n",
        "axL.set_title('training data')\n",
        "axL.set_xlabel('x0')\n",
        "axL.set_ylabel('x1')\n",
        "axL.contour(X0, X1, Y, [0], colors='red')\n",
        "axL.scatter(train_X_p[:,0], train_X_p[:,1], marker='o')\n",
        "axL.scatter(train_X_n[:,0], train_X_n[:,1], marker='s')\n",
        "axL.scatter(sv[:,0], sv[:,1], marker='*', color='gold')\n",
        "axR.set_title('test data')\n",
        "axR.set_xlabel('x0')\n",
        "axR.set_ylabel('x1')\n",
        "axR.contour(X0, X1, Y, [0], colors='red')\n",
        "axR.scatter(test_X_p[:,0], test_X_p[:,1], marker='o')\n",
        "axR.scatter(test_X_n[:,0], test_X_n[:,1], marker='s')\n",
        "plt.show()"
      ],
      "execution_count": 9,
      "outputs": [
        {
          "output_type": "display_data",
          "data": {
            "image/png": "[encoded data removed]",
            "text/plain": [
              "<matplotlib.figure.Figure at 0x7ff3e7d175f8>"
            ]
          },
          "metadata": {
            "tags": []
          }
        }
      ]
    }
  ]
}